{
 "cells": [
  {
   "cell_type": "markdown",
   "metadata": {},
   "source": [
    "# What do Principal Components Actually do Mathematically?\n",
    "I have recently taken an interest in PCA after watching Professor Gilbert Strang’s [PCA lecture](https://www.youtube.com/watch?v=Y4f7K9XF04k). I must have watched at least 15 other videos and read 7 different blog posts on PCA since. They are all very excellent resources, but I found myself somewhat unsatisfied. What they do a lot is teaching us the following:\n",
    "- What the PCA promise is;\n",
    "- Why that promise is very useful in Data Science; and\n",
    "- How to extract these principal components. (Although I don't agree with how some of them do it by applying SVD on the covariance matrix, that can be saved for another post.)\n",
    "\n",
    "Some of them go the extra mile to show us graphically or logically, how the promise is being fulfilled by the principal components:\n",
    "- Graphically, a transformed vector can be shown to be still clustered with its original group in a plot; and\n",
    "- Logically, a proof can be expressed in mathematical symbols.\n",
    "\n",
    "## Objective\n",
    "My mind was convinced, but my heart was still not. To me, the graphic approach does not provide a visual effect that is striking enough. The logic approach, on the other hand, does not even spend enough effort to explain what precisely it's trying to prove. Therefore, the objective of this post is to improve both of these 2 areas - to provide a more striking visual and to establish a more precise goal for our mathematical proof.\n",
    "\n",
    "## Prerequisites\n",
    "This post is for you if:\n",
    "- You have at least a slight idea of what the PCA promise is;\n",
    "- You have a decent understanding of what the covariance matrix is about;\n",
    "- You have a solid foundation in linear algebra, e.g., comfortable with the concept of matrices being transformations that rotate and/or stretch spaces; and\n",
    "- Your heart is longing to discover the principal components, instead of being told what they are!\n",
    "\n",
    "## How to Choose P?\n",
    "After hearing my dissatisfaction, my friend [Calvin](https://calvinfeng.github.io/) recommended this paper by Jonathon Shlens - [A Tutorial on Principal Component Analysis](https://arxiv.org/pdf/1404.1100.pdf) to me. It is by far the best resource I have come across on PCA. However, it's also a bit lengthier than your typical blog post, so the remainder of this post will focus on section 5 of the paper. In there, Jonathon immediately establishes the following goal:\n",
    "> The [original] dataset is $X$, an $m × n$ matrix.<br>\n",
    "> Find some orthonormal matrix $P$ in $Y = PX$ such that $C_Y \\equiv \\frac{1}{n}YY^T$ is a diagonal matrix.[1]<br>\n",
    "> The rows of $P$ shall be principal components of $X$.\n",
    "\n",
    "As you might have noticed, $C_Y$ here is the covariance matrix of our rotated dataset $Y$. Why do we want $C_Y$ to be diagonal? Before we answer this question, let’s generate a dataset $X$ consisting of 4 features with some random values."
   ]
  },
  {
   "cell_type": "code",
   "execution_count": 202,
   "metadata": {
    "cell_style": "center"
   },
   "outputs": [],
   "source": [
    "from IPython.display import Latex, display\n",
    "from string import ascii_lowercase\n",
    "import numpy as np\n",
    "import pandas as pd\n",
    "\n",
    "# constants\n",
    "FEAT_NUM, SAMPLE_NUM = 4, 4\n",
    "\n",
    "# helpers\n",
    "def covariance_matrix(dataset):\n",
    "    return dataset @ dataset.transpose() / SAMPLE_NUM\n",
    "\n",
    "def tabulate(dataset, rotated=False):\n",
    "    '''\n",
    "    Label row(s) and column(s) of a matrix by wrapping it in a dataframe.\n",
    "    '''\n",
    "    if rotated:\n",
    "        prefix = 'new_'\n",
    "        feats = ascii_lowercase[FEAT_NUM:2 * FEAT_NUM]\n",
    "    else:\n",
    "        prefix = ''\n",
    "        feats = ascii_lowercase[0:FEAT_NUM]\n",
    "    return pd.DataFrame.from_records(dataset, \n",
    "                                     columns=['sample{}'.format(num) for num in range(SAMPLE_NUM)], \n",
    "                                     index=['{}feat_{}'.format(prefix, feat) for feat in feats])\n",
    "\n",
    "def display_df(dataset, latex=False):\n",
    "    rounded = dataset.round(15)\n",
    "    if latex:\n",
    "        display(Latex(rounded.to_latex()))\n",
    "    else:\n",
    "        display(rounded)"
   ]
  },
  {
   "cell_type": "code",
   "execution_count": 206,
   "metadata": {
    "scrolled": true
   },
   "outputs": [
    {
     "data": {
      "text/html": [
       "<div>\n",
       "<style scoped>\n",
       "    .dataframe tbody tr th:only-of-type {\n",
       "        vertical-align: middle;\n",
       "    }\n",
       "\n",
       "    .dataframe tbody tr th {\n",
       "        vertical-align: top;\n",
       "    }\n",
       "\n",
       "    .dataframe thead th {\n",
       "        text-align: right;\n",
       "    }\n",
       "</style>\n",
       "<table border=\"1\" class=\"dataframe\">\n",
       "  <thead>\n",
       "    <tr style=\"text-align: right;\">\n",
       "      <th></th>\n",
       "      <th>sample0</th>\n",
       "      <th>sample1</th>\n",
       "      <th>sample2</th>\n",
       "      <th>sample3</th>\n",
       "    </tr>\n",
       "  </thead>\n",
       "  <tbody>\n",
       "    <tr>\n",
       "      <th>feat_a</th>\n",
       "      <td>0.960266</td>\n",
       "      <td>0.541859</td>\n",
       "      <td>0.263176</td>\n",
       "      <td>0.922409</td>\n",
       "    </tr>\n",
       "    <tr>\n",
       "      <th>feat_b</th>\n",
       "      <td>0.874243</td>\n",
       "      <td>0.355070</td>\n",
       "      <td>0.309325</td>\n",
       "      <td>0.785072</td>\n",
       "    </tr>\n",
       "    <tr>\n",
       "      <th>feat_c</th>\n",
       "      <td>0.484207</td>\n",
       "      <td>0.594282</td>\n",
       "      <td>0.566241</td>\n",
       "      <td>0.677418</td>\n",
       "    </tr>\n",
       "    <tr>\n",
       "      <th>feat_d</th>\n",
       "      <td>0.600766</td>\n",
       "      <td>0.775064</td>\n",
       "      <td>0.861898</td>\n",
       "      <td>0.299897</td>\n",
       "    </tr>\n",
       "  </tbody>\n",
       "</table>\n",
       "</div>"
      ],
      "text/plain": [
       "         sample0   sample1   sample2   sample3\n",
       "feat_a  0.960266  0.541859  0.263176  0.922409\n",
       "feat_b  0.874243  0.355070  0.309325  0.785072\n",
       "feat_c  0.484207  0.594282  0.566241  0.677418\n",
       "feat_d  0.600766  0.775064  0.861898  0.299897"
      ]
     },
     "metadata": {},
     "output_type": "display_data"
    }
   ],
   "source": [
    "x = tabulate(np.random.rand(FEAT_NUM, SAMPLE_NUM))\n",
    "display_df(x)"
   ]
  },
  {
   "cell_type": "markdown",
   "metadata": {},
   "source": [
    "Looks just like any other normal dataset. Nothing special. What about its covariance matrix?"
   ]
  },
  {
   "cell_type": "code",
   "execution_count": 207,
   "metadata": {},
   "outputs": [
    {
     "data": {
      "text/html": [
       "<div>\n",
       "<style scoped>\n",
       "    .dataframe tbody tr th:only-of-type {\n",
       "        vertical-align: middle;\n",
       "    }\n",
       "\n",
       "    .dataframe tbody tr th {\n",
       "        vertical-align: top;\n",
       "    }\n",
       "\n",
       "    .dataframe thead th {\n",
       "        text-align: right;\n",
       "    }\n",
       "</style>\n",
       "<table border=\"1\" class=\"dataframe\">\n",
       "  <thead>\n",
       "    <tr style=\"text-align: right;\">\n",
       "      <th></th>\n",
       "      <th>feat_a</th>\n",
       "      <th>feat_b</th>\n",
       "      <th>feat_c</th>\n",
       "      <th>feat_d</th>\n",
       "    </tr>\n",
       "  </thead>\n",
       "  <tbody>\n",
       "    <tr>\n",
       "      <th>feat_a</th>\n",
       "      <td>0.533955</td>\n",
       "      <td>0.459367</td>\n",
       "      <td>0.390216</td>\n",
       "      <td>0.375082</td>\n",
       "    </tr>\n",
       "    <tr>\n",
       "      <th>feat_b</th>\n",
       "      <td>0.459367</td>\n",
       "      <td>0.400599</td>\n",
       "      <td>0.335325</td>\n",
       "      <td>0.325616</td>\n",
       "    </tr>\n",
       "    <tr>\n",
       "      <th>feat_c</th>\n",
       "      <td>0.390216</td>\n",
       "      <td>0.335325</td>\n",
       "      <td>0.341788</td>\n",
       "      <td>0.360675</td>\n",
       "    </tr>\n",
       "    <tr>\n",
       "      <th>feat_d</th>\n",
       "      <td>0.375082</td>\n",
       "      <td>0.325616</td>\n",
       "      <td>0.360675</td>\n",
       "      <td>0.448613</td>\n",
       "    </tr>\n",
       "  </tbody>\n",
       "</table>\n",
       "</div>"
      ],
      "text/plain": [
       "          feat_a    feat_b    feat_c    feat_d\n",
       "feat_a  0.533955  0.459367  0.390216  0.375082\n",
       "feat_b  0.459367  0.400599  0.335325  0.325616\n",
       "feat_c  0.390216  0.335325  0.341788  0.360675\n",
       "feat_d  0.375082  0.325616  0.360675  0.448613"
      ]
     },
     "metadata": {},
     "output_type": "display_data"
    }
   ],
   "source": [
    "c_x = covariance_matrix(x)\n",
    "display_df(c_x)"
   ]
  },
  {
   "cell_type": "markdown",
   "metadata": {},
   "source": [
    "![alt text](doesnt_look_like_anything.jpg \"Doesn't look like anything to me\")"
   ]
  },
  {
   "cell_type": "code",
   "execution_count": 203,
   "metadata": {},
   "outputs": [],
   "source": [
    "x = tabulate(np.random.rand(FEAT_NUM, SAMPLE_NUM))\n",
    "c_x = covariance_matrix(x)\n",
    "_, p = np.linalg.eig(c_x)\n",
    "y = tabulate(p.transpose() @ x, rotated=True)\n",
    "c_y = covariance_matrix(y)"
   ]
  },
  {
   "cell_type": "code",
   "execution_count": 204,
   "metadata": {},
   "outputs": [
    {
     "data": {
      "text/html": [
       "<div>\n",
       "<style scoped>\n",
       "    .dataframe tbody tr th:only-of-type {\n",
       "        vertical-align: middle;\n",
       "    }\n",
       "\n",
       "    .dataframe tbody tr th {\n",
       "        vertical-align: top;\n",
       "    }\n",
       "\n",
       "    .dataframe thead th {\n",
       "        text-align: right;\n",
       "    }\n",
       "</style>\n",
       "<table border=\"1\" class=\"dataframe\">\n",
       "  <thead>\n",
       "    <tr style=\"text-align: right;\">\n",
       "      <th></th>\n",
       "      <th>sample0</th>\n",
       "      <th>sample1</th>\n",
       "      <th>sample2</th>\n",
       "      <th>sample3</th>\n",
       "    </tr>\n",
       "  </thead>\n",
       "  <tbody>\n",
       "    <tr>\n",
       "      <th>feat_a</th>\n",
       "      <td>0.032694</td>\n",
       "      <td>0.680192</td>\n",
       "      <td>0.675898</td>\n",
       "      <td>0.585956</td>\n",
       "    </tr>\n",
       "    <tr>\n",
       "      <th>feat_b</th>\n",
       "      <td>0.229547</td>\n",
       "      <td>0.628407</td>\n",
       "      <td>0.402396</td>\n",
       "      <td>0.218725</td>\n",
       "    </tr>\n",
       "    <tr>\n",
       "      <th>feat_c</th>\n",
       "      <td>0.951576</td>\n",
       "      <td>0.404422</td>\n",
       "      <td>0.878310</td>\n",
       "      <td>0.917486</td>\n",
       "    </tr>\n",
       "    <tr>\n",
       "      <th>feat_d</th>\n",
       "      <td>0.814071</td>\n",
       "      <td>0.470929</td>\n",
       "      <td>0.099848</td>\n",
       "      <td>0.923725</td>\n",
       "    </tr>\n",
       "  </tbody>\n",
       "</table>\n",
       "</div>"
      ],
      "text/plain": [
       "         sample0   sample1   sample2   sample3\n",
       "feat_a  0.032694  0.680192  0.675898  0.585956\n",
       "feat_b  0.229547  0.628407  0.402396  0.218725\n",
       "feat_c  0.951576  0.404422  0.878310  0.917486\n",
       "feat_d  0.814071  0.470929  0.099848  0.923725"
      ]
     },
     "metadata": {},
     "output_type": "display_data"
    },
    {
     "data": {
      "text/html": [
       "<div>\n",
       "<style scoped>\n",
       "    .dataframe tbody tr th:only-of-type {\n",
       "        vertical-align: middle;\n",
       "    }\n",
       "\n",
       "    .dataframe tbody tr th {\n",
       "        vertical-align: top;\n",
       "    }\n",
       "\n",
       "    .dataframe thead th {\n",
       "        text-align: right;\n",
       "    }\n",
       "</style>\n",
       "<table border=\"1\" class=\"dataframe\">\n",
       "  <thead>\n",
       "    <tr style=\"text-align: right;\">\n",
       "      <th></th>\n",
       "      <th>feat_a</th>\n",
       "      <th>feat_b</th>\n",
       "      <th>feat_c</th>\n",
       "      <th>feat_d</th>\n",
       "    </tr>\n",
       "  </thead>\n",
       "  <tbody>\n",
       "    <tr>\n",
       "      <th>feat_a</th>\n",
       "      <td>0.315979</td>\n",
       "      <td>0.208771</td>\n",
       "      <td>0.359363</td>\n",
       "      <td>0.238922</td>\n",
       "    </tr>\n",
       "    <tr>\n",
       "      <th>feat_b</th>\n",
       "      <td>0.208771</td>\n",
       "      <td>0.164338</td>\n",
       "      <td>0.256670</td>\n",
       "      <td>0.181256</td>\n",
       "    </tr>\n",
       "    <tr>\n",
       "      <th>feat_c</th>\n",
       "      <td>0.359363</td>\n",
       "      <td>0.256670</td>\n",
       "      <td>0.670566</td>\n",
       "      <td>0.475077</td>\n",
       "    </tr>\n",
       "    <tr>\n",
       "      <th>feat_d</th>\n",
       "      <td>0.238922</td>\n",
       "      <td>0.181256</td>\n",
       "      <td>0.475077</td>\n",
       "      <td>0.436931</td>\n",
       "    </tr>\n",
       "  </tbody>\n",
       "</table>\n",
       "</div>"
      ],
      "text/plain": [
       "          feat_a    feat_b    feat_c    feat_d\n",
       "feat_a  0.315979  0.208771  0.359363  0.238922\n",
       "feat_b  0.208771  0.164338  0.256670  0.181256\n",
       "feat_c  0.359363  0.256670  0.670566  0.475077\n",
       "feat_d  0.238922  0.181256  0.475077  0.436931"
      ]
     },
     "metadata": {},
     "output_type": "display_data"
    },
    {
     "data": {
      "text/html": [
       "<div>\n",
       "<style scoped>\n",
       "    .dataframe tbody tr th:only-of-type {\n",
       "        vertical-align: middle;\n",
       "    }\n",
       "\n",
       "    .dataframe tbody tr th {\n",
       "        vertical-align: top;\n",
       "    }\n",
       "\n",
       "    .dataframe thead th {\n",
       "        text-align: right;\n",
       "    }\n",
       "</style>\n",
       "<table border=\"1\" class=\"dataframe\">\n",
       "  <thead>\n",
       "    <tr style=\"text-align: right;\">\n",
       "      <th></th>\n",
       "      <th>sample0</th>\n",
       "      <th>sample1</th>\n",
       "      <th>sample2</th>\n",
       "      <th>sample3</th>\n",
       "    </tr>\n",
       "  </thead>\n",
       "  <tbody>\n",
       "    <tr>\n",
       "      <th>new_feat_e</th>\n",
       "      <td>1.156732</td>\n",
       "      <td>0.991074</td>\n",
       "      <td>1.054079</td>\n",
       "      <td>1.416422</td>\n",
       "    </tr>\n",
       "    <tr>\n",
       "      <th>new_feat_f</th>\n",
       "      <td>-0.506006</td>\n",
       "      <td>0.401910</td>\n",
       "      <td>0.422045</td>\n",
       "      <td>-0.182063</td>\n",
       "    </tr>\n",
       "    <tr>\n",
       "      <th>new_feat_g</th>\n",
       "      <td>-0.147386</td>\n",
       "      <td>-0.102179</td>\n",
       "      <td>0.002545</td>\n",
       "      <td>0.189964</td>\n",
       "    </tr>\n",
       "    <tr>\n",
       "      <th>new_feat_h</th>\n",
       "      <td>-0.078583</td>\n",
       "      <td>0.297806</td>\n",
       "      <td>-0.333089</td>\n",
       "      <td>0.103679</td>\n",
       "    </tr>\n",
       "  </tbody>\n",
       "</table>\n",
       "</div>"
      ],
      "text/plain": [
       "             sample0   sample1   sample2   sample3\n",
       "new_feat_e  1.156732  0.991074  1.054079  1.416422\n",
       "new_feat_f -0.506006  0.401910  0.422045 -0.182063\n",
       "new_feat_g -0.147386 -0.102179  0.002545  0.189964\n",
       "new_feat_h -0.078583  0.297806 -0.333089  0.103679"
      ]
     },
     "metadata": {},
     "output_type": "display_data"
    },
    {
     "data": {
      "text/html": [
       "<div>\n",
       "<style scoped>\n",
       "    .dataframe tbody tr th:only-of-type {\n",
       "        vertical-align: middle;\n",
       "    }\n",
       "\n",
       "    .dataframe tbody tr th {\n",
       "        vertical-align: top;\n",
       "    }\n",
       "\n",
       "    .dataframe thead th {\n",
       "        text-align: right;\n",
       "    }\n",
       "</style>\n",
       "<table border=\"1\" class=\"dataframe\">\n",
       "  <thead>\n",
       "    <tr style=\"text-align: right;\">\n",
       "      <th></th>\n",
       "      <th>new_feat_e</th>\n",
       "      <th>new_feat_f</th>\n",
       "      <th>new_feat_g</th>\n",
       "      <th>new_feat_h</th>\n",
       "    </tr>\n",
       "  </thead>\n",
       "  <tbody>\n",
       "    <tr>\n",
       "      <th>new_feat_e</th>\n",
       "      <td>1.359398</td>\n",
       "      <td>-0.000000</td>\n",
       "      <td>0.000000</td>\n",
       "      <td>-0.00000</td>\n",
       "    </tr>\n",
       "    <tr>\n",
       "      <th>new_feat_f</th>\n",
       "      <td>-0.000000</td>\n",
       "      <td>0.157211</td>\n",
       "      <td>-0.000000</td>\n",
       "      <td>-0.00000</td>\n",
       "    </tr>\n",
       "    <tr>\n",
       "      <th>new_feat_g</th>\n",
       "      <td>0.000000</td>\n",
       "      <td>-0.000000</td>\n",
       "      <td>0.017064</td>\n",
       "      <td>0.00000</td>\n",
       "    </tr>\n",
       "    <tr>\n",
       "      <th>new_feat_h</th>\n",
       "      <td>-0.000000</td>\n",
       "      <td>-0.000000</td>\n",
       "      <td>0.000000</td>\n",
       "      <td>0.05414</td>\n",
       "    </tr>\n",
       "  </tbody>\n",
       "</table>\n",
       "</div>"
      ],
      "text/plain": [
       "            new_feat_e  new_feat_f  new_feat_g  new_feat_h\n",
       "new_feat_e    1.359398   -0.000000    0.000000    -0.00000\n",
       "new_feat_f   -0.000000    0.157211   -0.000000    -0.00000\n",
       "new_feat_g    0.000000   -0.000000    0.017064     0.00000\n",
       "new_feat_h   -0.000000   -0.000000    0.000000     0.05414"
      ]
     },
     "metadata": {},
     "output_type": "display_data"
    }
   ],
   "source": [
    "display_df(x)\n",
    "display_df(c_x)\n",
    "display_df(y)\n",
    "display_df(c_y)"
   ]
  },
  {
   "cell_type": "code",
   "execution_count": 205,
   "metadata": {},
   "outputs": [
    {
     "data": {
      "text/latex": [
       "\\begin{tabular}{lrrrr}\n",
       "\\toprule\n",
       "{} &   sample0 &   sample1 &   sample2 &   sample3 \\\\\n",
       "\\midrule\n",
       "feat\\_a &  0.032694 &  0.680192 &  0.675898 &  0.585956 \\\\\n",
       "feat\\_b &  0.229547 &  0.628407 &  0.402396 &  0.218725 \\\\\n",
       "feat\\_c &  0.951576 &  0.404422 &  0.878310 &  0.917486 \\\\\n",
       "feat\\_d &  0.814071 &  0.470929 &  0.099848 &  0.923725 \\\\\n",
       "\\bottomrule\n",
       "\\end{tabular}\n"
      ],
      "text/plain": [
       "<IPython.core.display.Latex object>"
      ]
     },
     "metadata": {},
     "output_type": "display_data"
    },
    {
     "data": {
      "text/latex": [
       "\\begin{tabular}{lrrrr}\n",
       "\\toprule\n",
       "{} &    feat\\_a &    feat\\_b &    feat\\_c &    feat\\_d \\\\\n",
       "\\midrule\n",
       "feat\\_a &  0.315979 &  0.208771 &  0.359363 &  0.238922 \\\\\n",
       "feat\\_b &  0.208771 &  0.164338 &  0.256670 &  0.181256 \\\\\n",
       "feat\\_c &  0.359363 &  0.256670 &  0.670566 &  0.475077 \\\\\n",
       "feat\\_d &  0.238922 &  0.181256 &  0.475077 &  0.436931 \\\\\n",
       "\\bottomrule\n",
       "\\end{tabular}\n"
      ],
      "text/plain": [
       "<IPython.core.display.Latex object>"
      ]
     },
     "metadata": {},
     "output_type": "display_data"
    },
    {
     "data": {
      "text/latex": [
       "\\begin{tabular}{lrrrr}\n",
       "\\toprule\n",
       "{} &   sample0 &   sample1 &   sample2 &   sample3 \\\\\n",
       "\\midrule\n",
       "new\\_feat\\_e &  1.156732 &  0.991074 &  1.054079 &  1.416422 \\\\\n",
       "new\\_feat\\_f & -0.506006 &  0.401910 &  0.422045 & -0.182063 \\\\\n",
       "new\\_feat\\_g & -0.147386 & -0.102179 &  0.002545 &  0.189964 \\\\\n",
       "new\\_feat\\_h & -0.078583 &  0.297806 & -0.333089 &  0.103679 \\\\\n",
       "\\bottomrule\n",
       "\\end{tabular}\n"
      ],
      "text/plain": [
       "<IPython.core.display.Latex object>"
      ]
     },
     "metadata": {},
     "output_type": "display_data"
    },
    {
     "data": {
      "text/latex": [
       "\\begin{tabular}{lrrrr}\n",
       "\\toprule\n",
       "{} &  new\\_feat\\_e &  new\\_feat\\_f &  new\\_feat\\_g &  new\\_feat\\_h \\\\\n",
       "\\midrule\n",
       "new\\_feat\\_e &    1.359398 &   -0.000000 &    0.000000 &    -0.00000 \\\\\n",
       "new\\_feat\\_f &   -0.000000 &    0.157211 &   -0.000000 &    -0.00000 \\\\\n",
       "new\\_feat\\_g &    0.000000 &   -0.000000 &    0.017064 &     0.00000 \\\\\n",
       "new\\_feat\\_h &   -0.000000 &   -0.000000 &    0.000000 &     0.05414 \\\\\n",
       "\\bottomrule\n",
       "\\end{tabular}\n"
      ],
      "text/plain": [
       "<IPython.core.display.Latex object>"
      ]
     },
     "metadata": {},
     "output_type": "display_data"
    }
   ],
   "source": [
    "display_df(x, latex=True)\n",
    "display_df(c_x, latex=True)\n",
    "display_df(y, latex=True)\n",
    "display_df(c_y, latex=True)"
   ]
  },
  {
   "cell_type": "markdown",
   "metadata": {},
   "source": [
    "[1]: The reason orthonormality is part of the goal is that we do not want to do anything more than rotating $X$. We do not want to modify $X$. We only want to re-express $X$ by carefully choosing a change of basis."
   ]
  }
 ],
 "metadata": {
  "kernelspec": {
   "display_name": "Python 3",
   "language": "python",
   "name": "python3"
  },
  "language_info": {
   "codemirror_mode": {
    "name": "ipython",
    "version": 3
   },
   "file_extension": ".py",
   "mimetype": "text/x-python",
   "name": "python",
   "nbconvert_exporter": "python",
   "pygments_lexer": "ipython3",
   "version": "3.7.5"
  }
 },
 "nbformat": 4,
 "nbformat_minor": 2
}
