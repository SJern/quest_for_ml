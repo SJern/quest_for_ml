{
 "cells": [
  {
   "cell_type": "markdown",
   "metadata": {},
   "source": [
    "# What do Principal Components Actually do Mathematically?\n",
    "I have recently taken an interest in PCA after watching Professor Gilbert Strang’s [PCA lecture](https://www.youtube.com/watch?v=Y4f7K9XF04k). I must have watched at least 15 other videos and read 7 different blog posts on PCA since. They are all very excellent resources, but I found myself somewhat unsatisfied. What they do a lot is teaching us the following:\n",
    "- What the PCA promise is;\n",
    "- Why that promise is very useful in Data Science; and\n",
    "- How to extract these principal components. (Although I don't agree with how some of them do it by applying SVD on the covariance matrix, that can be saved for another post.)\n",
    "\n",
    "Some of them go the extra mile to show us graphically or logically, how the promise is being fulfilled by the principal components:\n",
    "- Graphically, a transformed vector can be shown to be still clustered with its original group in a plot; and\n",
    "- Logically, a proof can be expressed in mathematical symbols.\n",
    "\n",
    "## Objective\n",
    "My mind was convinced, but my heart was still not. To me, the graphic approach does not provide a visual effect that is striking enough. The logic approach, on the other hand, does not even spend enough effort to explain what precisely it's trying to prove. Therefore, the objective of this post is to improve both of these 2 areas - to provide a more striking visual and to establish a more precise goal for our mathematical proof.\n",
    "\n",
    "## Prerequisites\n",
    "This post is for you if:\n",
    "- You have at least a slight idea of what the PCA promise is;\n",
    "- You have a decent understanding of what the covariance matrix is about;\n",
    "- You have a solid foundation in linear algebra, e.g., comfortable with the concept of matrices being transformations that rotate and/or stretch spaces; and\n",
    "- Your heart is longing to discover the principal components, instead of being told what they are!\n",
    "\n",
    "## How to Choose P?\n",
    "After hearing my dissatisfaction, my friend [Calvin](https://calvinfeng.github.io/) recommended this paper by Jonathon Shlens - [A Tutorial on Principal Component Analysis](https://arxiv.org/pdf/1404.1100.pdf) to me. It is by far the best resource I have come across on PCA. However, it's also a bit lengthier than your typical blog post, so the remainder of this post will focus on section 5 of the paper. In there, Jonathon immediately establishes the following goal:\n",
    "> The [original] dataset is $X$, an $m × n$ matrix.<br>\n",
    "> Find some orthonormal matrix $P$ in $Y = PX$ such that $C_Y \\equiv \\frac{1}{n}YY^T$ is a diagonal matrix.[1]<br>\n",
    "> The rows of $P$ shall be principal components of $X$.\n",
    "\n",
    "As you might have noticed, $C_Y$ here is the covariance matrix of our rotated dataset $Y$. Why do we want $C_Y$ to be diagonal? Before we answer this question, let’s generate a dataset $X$ consisting of 4 features with some random values."
   ]
  },
  {
   "cell_type": "code",
   "execution_count": 16,
   "metadata": {
    "cell_style": "center"
   },
   "outputs": [],
   "source": [
    "import numpy as np\n",
    "feature_num, sample_num = 4, 6\n",
    "x = np.random.rand(feature_num, sample_num)\n",
    "\n",
    "def covariance_matrix(dataset):\n",
    "    sample_count = dataset.shape[1]\n",
    "    return (dataset @ dataset.transpose() / sample_count).round(15)"
   ]
  },
  {
   "cell_type": "code",
   "execution_count": 17,
   "metadata": {},
   "outputs": [],
   "source": [
    "c_x = covariance_matrix(x)\n",
    "_, p = np.linalg.eig(c_x)\n",
    "y = p.transpose() @ x\n",
    "c_y = covariance_matrix(y)"
   ]
  },
  {
   "cell_type": "code",
   "execution_count": 50,
   "metadata": {},
   "outputs": [
    {
     "data": {
      "text/html": [
       "<style  type=\"text/css\" >\n",
       "</style><table id=\"T_ff170538_5b46_11ea_b65b_acbc32c2f94f\" ><caption>X</caption><thead>    <tr>        <th class=\"blank level0\" ></th>        <th class=\"col_heading level0 col0\" >sample0</th>        <th class=\"col_heading level0 col1\" >sample1</th>        <th class=\"col_heading level0 col2\" >sample2</th>        <th class=\"col_heading level0 col3\" >sample3</th>        <th class=\"col_heading level0 col4\" >sample4</th>        <th class=\"col_heading level0 col5\" >sample5</th>    </tr></thead><tbody>\n",
       "                <tr>\n",
       "                        <th id=\"T_ff170538_5b46_11ea_b65b_acbc32c2f94flevel0_row0\" class=\"row_heading level0 row0\" >feat_a</th>\n",
       "                        <td id=\"T_ff170538_5b46_11ea_b65b_acbc32c2f94frow0_col0\" class=\"data row0 col0\" >0.293459</td>\n",
       "                        <td id=\"T_ff170538_5b46_11ea_b65b_acbc32c2f94frow0_col1\" class=\"data row0 col1\" >0.077714</td>\n",
       "                        <td id=\"T_ff170538_5b46_11ea_b65b_acbc32c2f94frow0_col2\" class=\"data row0 col2\" >0.905751</td>\n",
       "                        <td id=\"T_ff170538_5b46_11ea_b65b_acbc32c2f94frow0_col3\" class=\"data row0 col3\" >0.613897</td>\n",
       "                        <td id=\"T_ff170538_5b46_11ea_b65b_acbc32c2f94frow0_col4\" class=\"data row0 col4\" >0.060830</td>\n",
       "                        <td id=\"T_ff170538_5b46_11ea_b65b_acbc32c2f94frow0_col5\" class=\"data row0 col5\" >0.379016</td>\n",
       "            </tr>\n",
       "            <tr>\n",
       "                        <th id=\"T_ff170538_5b46_11ea_b65b_acbc32c2f94flevel0_row1\" class=\"row_heading level0 row1\" >feat_b</th>\n",
       "                        <td id=\"T_ff170538_5b46_11ea_b65b_acbc32c2f94frow1_col0\" class=\"data row1 col0\" >0.378693</td>\n",
       "                        <td id=\"T_ff170538_5b46_11ea_b65b_acbc32c2f94frow1_col1\" class=\"data row1 col1\" >0.113846</td>\n",
       "                        <td id=\"T_ff170538_5b46_11ea_b65b_acbc32c2f94frow1_col2\" class=\"data row1 col2\" >0.214324</td>\n",
       "                        <td id=\"T_ff170538_5b46_11ea_b65b_acbc32c2f94frow1_col3\" class=\"data row1 col3\" >0.538663</td>\n",
       "                        <td id=\"T_ff170538_5b46_11ea_b65b_acbc32c2f94frow1_col4\" class=\"data row1 col4\" >0.691506</td>\n",
       "                        <td id=\"T_ff170538_5b46_11ea_b65b_acbc32c2f94frow1_col5\" class=\"data row1 col5\" >0.941329</td>\n",
       "            </tr>\n",
       "            <tr>\n",
       "                        <th id=\"T_ff170538_5b46_11ea_b65b_acbc32c2f94flevel0_row2\" class=\"row_heading level0 row2\" >feat_c</th>\n",
       "                        <td id=\"T_ff170538_5b46_11ea_b65b_acbc32c2f94frow2_col0\" class=\"data row2 col0\" >0.080650</td>\n",
       "                        <td id=\"T_ff170538_5b46_11ea_b65b_acbc32c2f94frow2_col1\" class=\"data row2 col1\" >0.274110</td>\n",
       "                        <td id=\"T_ff170538_5b46_11ea_b65b_acbc32c2f94frow2_col2\" class=\"data row2 col2\" >0.981330</td>\n",
       "                        <td id=\"T_ff170538_5b46_11ea_b65b_acbc32c2f94frow2_col3\" class=\"data row2 col3\" >0.051426</td>\n",
       "                        <td id=\"T_ff170538_5b46_11ea_b65b_acbc32c2f94frow2_col4\" class=\"data row2 col4\" >0.970625</td>\n",
       "                        <td id=\"T_ff170538_5b46_11ea_b65b_acbc32c2f94frow2_col5\" class=\"data row2 col5\" >0.987066</td>\n",
       "            </tr>\n",
       "            <tr>\n",
       "                        <th id=\"T_ff170538_5b46_11ea_b65b_acbc32c2f94flevel0_row3\" class=\"row_heading level0 row3\" >feat_d</th>\n",
       "                        <td id=\"T_ff170538_5b46_11ea_b65b_acbc32c2f94frow3_col0\" class=\"data row3 col0\" >0.571006</td>\n",
       "                        <td id=\"T_ff170538_5b46_11ea_b65b_acbc32c2f94frow3_col1\" class=\"data row3 col1\" >0.336628</td>\n",
       "                        <td id=\"T_ff170538_5b46_11ea_b65b_acbc32c2f94frow3_col2\" class=\"data row3 col2\" >0.905613</td>\n",
       "                        <td id=\"T_ff170538_5b46_11ea_b65b_acbc32c2f94frow3_col3\" class=\"data row3 col3\" >0.825542</td>\n",
       "                        <td id=\"T_ff170538_5b46_11ea_b65b_acbc32c2f94frow3_col4\" class=\"data row3 col4\" >0.441280</td>\n",
       "                        <td id=\"T_ff170538_5b46_11ea_b65b_acbc32c2f94frow3_col5\" class=\"data row3 col5\" >0.318327</td>\n",
       "            </tr>\n",
       "    </tbody></table>"
      ],
      "text/plain": [
       "<pandas.io.formats.style.Styler at 0x11868e250>"
      ]
     },
     "metadata": {},
     "output_type": "display_data"
    },
    {
     "data": {
      "text/html": [
       "<style  type=\"text/css\" >\n",
       "</style><table id=\"T_ff18e9d4_5b46_11ea_b65b_acbc32c2f94f\" ><caption>Covariance Matrix of X</caption><thead>    <tr>        <th class=\"blank level0\" ></th>        <th class=\"col_heading level0 col0\" >feat__a</th>        <th class=\"col_heading level0 col1\" >feat__b</th>        <th class=\"col_heading level0 col2\" >feat__c</th>        <th class=\"col_heading level0 col3\" >feat__d</th>    </tr></thead><tbody>\n",
       "                <tr>\n",
       "                        <th id=\"T_ff18e9d4_5b46_11ea_b65b_acbc32c2f94flevel0_row0\" class=\"row_heading level0 row0\" >feat_a</th>\n",
       "                        <td id=\"T_ff18e9d4_5b46_11ea_b65b_acbc32c2f94frow0_col0\" class=\"data row0 col0\" >0.239461</td>\n",
       "                        <td id=\"T_ff18e9d4_5b46_11ea_b65b_acbc32c2f94frow0_col1\" class=\"data row0 col1\" >0.173938</td>\n",
       "                        <td id=\"T_ff18e9d4_5b46_11ea_b65b_acbc32c2f94frow0_col2\" class=\"data row0 col2\" >0.233090</td>\n",
       "                        <td id=\"T_ff18e9d4_5b46_11ea_b65b_acbc32c2f94frow0_col3\" class=\"data row0 col3\" >0.278047</td>\n",
       "            </tr>\n",
       "            <tr>\n",
       "                        <th id=\"T_ff18e9d4_5b46_11ea_b65b_acbc32c2f94flevel0_row1\" class=\"row_heading level0 row1\" >feat_b</th>\n",
       "                        <td id=\"T_ff18e9d4_5b46_11ea_b65b_acbc32c2f94frow1_col0\" class=\"data row1 col0\" >0.173938</td>\n",
       "                        <td id=\"T_ff18e9d4_5b46_11ea_b65b_acbc32c2f94frow1_col1\" class=\"data row1 col1\" >0.309457</td>\n",
       "                        <td id=\"T_ff18e9d4_5b46_11ea_b65b_acbc32c2f94frow1_col2\" class=\"data row1 col2\" >0.316686</td>\n",
       "                        <td id=\"T_ff18e9d4_5b46_11ea_b65b_acbc32c2f94frow1_col3\" class=\"data row1 col3\" >0.249690</td>\n",
       "            </tr>\n",
       "            <tr>\n",
       "                        <th id=\"T_ff18e9d4_5b46_11ea_b65b_acbc32c2f94flevel0_row2\" class=\"row_heading level0 row2\" >feat_c</th>\n",
       "                        <td id=\"T_ff18e9d4_5b46_11ea_b65b_acbc32c2f94frow2_col0\" class=\"data row2 col0\" >0.233090</td>\n",
       "                        <td id=\"T_ff18e9d4_5b46_11ea_b65b_acbc32c2f94frow2_col1\" class=\"data row2 col1\" >0.316686</td>\n",
       "                        <td id=\"T_ff18e9d4_5b46_11ea_b65b_acbc32c2f94frow2_col2\" class=\"data row2 col2\" >0.493951</td>\n",
       "                        <td id=\"T_ff18e9d4_5b46_11ea_b65b_acbc32c2f94frow2_col3\" class=\"data row2 col3\" >0.302002</td>\n",
       "            </tr>\n",
       "            <tr>\n",
       "                        <th id=\"T_ff18e9d4_5b46_11ea_b65b_acbc32c2f94flevel0_row3\" class=\"row_heading level0 row3\" >feat_d</th>\n",
       "                        <td id=\"T_ff18e9d4_5b46_11ea_b65b_acbc32c2f94frow3_col0\" class=\"data row3 col0\" >0.278047</td>\n",
       "                        <td id=\"T_ff18e9d4_5b46_11ea_b65b_acbc32c2f94frow3_col1\" class=\"data row3 col1\" >0.249690</td>\n",
       "                        <td id=\"T_ff18e9d4_5b46_11ea_b65b_acbc32c2f94frow3_col2\" class=\"data row3 col2\" >0.302002</td>\n",
       "                        <td id=\"T_ff18e9d4_5b46_11ea_b65b_acbc32c2f94frow3_col3\" class=\"data row3 col3\" >0.372847</td>\n",
       "            </tr>\n",
       "    </tbody></table>"
      ],
      "text/plain": [
       "<pandas.io.formats.style.Styler at 0x1186be8d0>"
      ]
     },
     "metadata": {},
     "output_type": "display_data"
    },
    {
     "data": {
      "text/html": [
       "<style  type=\"text/css\" >\n",
       "</style><table id=\"T_ff1988bc_5b46_11ea_b65b_acbc32c2f94f\" ><caption>Y</caption><thead>    <tr>        <th class=\"blank level0\" ></th>        <th class=\"col_heading level0 col0\" >sample0</th>        <th class=\"col_heading level0 col1\" >sample1</th>        <th class=\"col_heading level0 col2\" >sample2</th>        <th class=\"col_heading level0 col3\" >sample3</th>        <th class=\"col_heading level0 col4\" >sample4</th>        <th class=\"col_heading level0 col5\" >sample5</th>    </tr></thead><tbody>\n",
       "                <tr>\n",
       "                        <th id=\"T_ff1988bc_5b46_11ea_b65b_acbc32c2f94flevel0_row0\" class=\"row_heading level0 row0\" >new_feat_e</th>\n",
       "                        <td id=\"T_ff1988bc_5b46_11ea_b65b_acbc32c2f94frow0_col0\" class=\"data row0 col0\" >0.636530</td>\n",
       "                        <td id=\"T_ff1988bc_5b46_11ea_b65b_acbc32c2f94frow0_col1\" class=\"data row0 col1\" >0.422693</td>\n",
       "                        <td id=\"T_ff1988bc_5b46_11ea_b65b_acbc32c2f94frow0_col2\" class=\"data row0 col2\" >1.518393</td>\n",
       "                        <td id=\"T_ff1988bc_5b46_11ea_b65b_acbc32c2f94frow0_col3\" class=\"data row0 col3\" >0.952671</td>\n",
       "                        <td id=\"T_ff1988bc_5b46_11ea_b65b_acbc32c2f94frow0_col4\" class=\"data row0 col4\" >1.153582</td>\n",
       "                        <td id=\"T_ff1988bc_5b46_11ea_b65b_acbc32c2f94frow0_col5\" class=\"data row0 col5\" >1.341163</td>\n",
       "            </tr>\n",
       "            <tr>\n",
       "                        <th id=\"T_ff1988bc_5b46_11ea_b65b_acbc32c2f94flevel0_row1\" class=\"row_heading level0 row1\" >new_feat_f</th>\n",
       "                        <td id=\"T_ff1988bc_5b46_11ea_b65b_acbc32c2f94frow1_col0\" class=\"data row1 col0\" >0.301831</td>\n",
       "                        <td id=\"T_ff1988bc_5b46_11ea_b65b_acbc32c2f94frow1_col1\" class=\"data row1 col1\" >0.032134</td>\n",
       "                        <td id=\"T_ff1988bc_5b46_11ea_b65b_acbc32c2f94frow1_col2\" class=\"data row1 col2\" >0.325724</td>\n",
       "                        <td id=\"T_ff1988bc_5b46_11ea_b65b_acbc32c2f94frow1_col3\" class=\"data row1 col3\" >0.572897</td>\n",
       "                        <td id=\"T_ff1988bc_5b46_11ea_b65b_acbc32c2f94frow1_col4\" class=\"data row1 col4\" >-0.502309</td>\n",
       "                        <td id=\"T_ff1988bc_5b46_11ea_b65b_acbc32c2f94frow1_col5\" class=\"data row1 col5\" >-0.497041</td>\n",
       "            </tr>\n",
       "            <tr>\n",
       "                        <th id=\"T_ff1988bc_5b46_11ea_b65b_acbc32c2f94flevel0_row2\" class=\"row_heading level0 row2\" >new_feat_g</th>\n",
       "                        <td id=\"T_ff1988bc_5b46_11ea_b65b_acbc32c2f94frow2_col0\" class=\"data row2 col0\" >-0.078864</td>\n",
       "                        <td id=\"T_ff1988bc_5b46_11ea_b65b_acbc32c2f94frow2_col1\" class=\"data row2 col1\" >-0.160210</td>\n",
       "                        <td id=\"T_ff1988bc_5b46_11ea_b65b_acbc32c2f94frow2_col2\" class=\"data row2 col2\" >0.036548</td>\n",
       "                        <td id=\"T_ff1988bc_5b46_11ea_b65b_acbc32c2f94frow2_col3\" class=\"data row2 col3\" >0.028764</td>\n",
       "                        <td id=\"T_ff1988bc_5b46_11ea_b65b_acbc32c2f94frow2_col4\" class=\"data row2 col4\" >-0.181150</td>\n",
       "                        <td id=\"T_ff1988bc_5b46_11ea_b65b_acbc32c2f94frow2_col5\" class=\"data row2 col5\" >0.181927</td>\n",
       "            </tr>\n",
       "            <tr>\n",
       "                        <th id=\"T_ff1988bc_5b46_11ea_b65b_acbc32c2f94flevel0_row3\" class=\"row_heading level0 row3\" >new_feat_h</th>\n",
       "                        <td id=\"T_ff1988bc_5b46_11ea_b65b_acbc32c2f94frow3_col0\" class=\"data row3 col0\" >-0.244105</td>\n",
       "                        <td id=\"T_ff1988bc_5b46_11ea_b65b_acbc32c2f94frow3_col1\" class=\"data row3 col1\" >0.045671</td>\n",
       "                        <td id=\"T_ff1988bc_5b46_11ea_b65b_acbc32c2f94frow3_col2\" class=\"data row3 col2\" >0.486327</td>\n",
       "                        <td id=\"T_ff1988bc_5b46_11ea_b65b_acbc32c2f94frow3_col3\" class=\"data row3 col3\" >-0.338482</td>\n",
       "                        <td id=\"T_ff1988bc_5b46_11ea_b65b_acbc32c2f94frow3_col4\" class=\"data row3 col4\" >-0.053299</td>\n",
       "                        <td id=\"T_ff1988bc_5b46_11ea_b65b_acbc32c2f94frow3_col5\" class=\"data row3 col5\" >-0.162854</td>\n",
       "            </tr>\n",
       "    </tbody></table>"
      ],
      "text/plain": [
       "<pandas.io.formats.style.Styler at 0x1186bed10>"
      ]
     },
     "metadata": {},
     "output_type": "display_data"
    },
    {
     "data": {
      "text/html": [
       "<style  type=\"text/css\" >\n",
       "</style><table id=\"T_ff1a2e5c_5b46_11ea_b65b_acbc32c2f94f\" ><caption>Covariance Matrix of Y</caption><thead>    <tr>        <th class=\"blank level0\" ></th>        <th class=\"col_heading level0 col0\" >new_feat__e</th>        <th class=\"col_heading level0 col1\" >new_feat__f</th>        <th class=\"col_heading level0 col2\" >new_feat__g</th>        <th class=\"col_heading level0 col3\" >new_feat__h</th>    </tr></thead><tbody>\n",
       "                <tr>\n",
       "                        <th id=\"T_ff1a2e5c_5b46_11ea_b65b_acbc32c2f94flevel0_row0\" class=\"row_heading level0 row0\" >new_feat_e</th>\n",
       "                        <td id=\"T_ff1a2e5c_5b46_11ea_b65b_acbc32c2f94frow0_col0\" class=\"data row0 col0\" >1.154401</td>\n",
       "                        <td id=\"T_ff1a2e5c_5b46_11ea_b65b_acbc32c2f94frow0_col1\" class=\"data row0 col1\" >-0.000000</td>\n",
       "                        <td id=\"T_ff1a2e5c_5b46_11ea_b65b_acbc32c2f94frow0_col2\" class=\"data row0 col2\" >-0.000000</td>\n",
       "                        <td id=\"T_ff1a2e5c_5b46_11ea_b65b_acbc32c2f94frow0_col3\" class=\"data row0 col3\" >0.000000</td>\n",
       "            </tr>\n",
       "            <tr>\n",
       "                        <th id=\"T_ff1a2e5c_5b46_11ea_b65b_acbc32c2f94flevel0_row1\" class=\"row_heading level0 row1\" >new_feat_f</th>\n",
       "                        <td id=\"T_ff1a2e5c_5b46_11ea_b65b_acbc32c2f94frow1_col0\" class=\"data row1 col0\" >-0.000000</td>\n",
       "                        <td id=\"T_ff1a2e5c_5b46_11ea_b65b_acbc32c2f94frow1_col1\" class=\"data row1 col1\" >0.170968</td>\n",
       "                        <td id=\"T_ff1a2e5c_5b46_11ea_b65b_acbc32c2f94frow1_col2\" class=\"data row1 col2\" >0.000000</td>\n",
       "                        <td id=\"T_ff1a2e5c_5b46_11ea_b65b_acbc32c2f94frow1_col3\" class=\"data row1 col3\" >0.000000</td>\n",
       "            </tr>\n",
       "            <tr>\n",
       "                        <th id=\"T_ff1a2e5c_5b46_11ea_b65b_acbc32c2f94flevel0_row2\" class=\"row_heading level0 row2\" >new_feat_g</th>\n",
       "                        <td id=\"T_ff1a2e5c_5b46_11ea_b65b_acbc32c2f94frow2_col0\" class=\"data row2 col0\" >-0.000000</td>\n",
       "                        <td id=\"T_ff1a2e5c_5b46_11ea_b65b_acbc32c2f94frow2_col1\" class=\"data row2 col1\" >0.000000</td>\n",
       "                        <td id=\"T_ff1a2e5c_5b46_11ea_b65b_acbc32c2f94frow2_col2\" class=\"data row2 col2\" >0.016660</td>\n",
       "                        <td id=\"T_ff1a2e5c_5b46_11ea_b65b_acbc32c2f94frow2_col3\" class=\"data row2 col3\" >-0.000000</td>\n",
       "            </tr>\n",
       "            <tr>\n",
       "                        <th id=\"T_ff1a2e5c_5b46_11ea_b65b_acbc32c2f94flevel0_row3\" class=\"row_heading level0 row3\" >new_feat_h</th>\n",
       "                        <td id=\"T_ff1a2e5c_5b46_11ea_b65b_acbc32c2f94frow3_col0\" class=\"data row3 col0\" >0.000000</td>\n",
       "                        <td id=\"T_ff1a2e5c_5b46_11ea_b65b_acbc32c2f94frow3_col1\" class=\"data row3 col1\" >0.000000</td>\n",
       "                        <td id=\"T_ff1a2e5c_5b46_11ea_b65b_acbc32c2f94frow3_col2\" class=\"data row3 col2\" >-0.000000</td>\n",
       "                        <td id=\"T_ff1a2e5c_5b46_11ea_b65b_acbc32c2f94frow3_col3\" class=\"data row3 col3\" >0.073687</td>\n",
       "            </tr>\n",
       "    </tbody></table>"
      ],
      "text/plain": [
       "<pandas.io.formats.style.Styler at 0x1186be9d0>"
      ]
     },
     "metadata": {},
     "output_type": "display_data"
    }
   ],
   "source": [
    "from IPython.display import HTML, display\n",
    "import pandas as pd\n",
    "\n",
    "def display_side_by_side(df1, df2, name1, name2):\n",
    "    inline = 'style=\"display: float; max-width:50%\" class=\"table\"'\n",
    "    q = '''\n",
    "    <div class=\"table-responsive col-md-6\">{}</div>\n",
    "    <div class=\"table-responsive col-md-6\">{}</div>\n",
    "    '''.format(df1.style.set_table_attributes(inline).set_caption(name1).render(),\n",
    "               df2.style.set_table_attributes(inline).set_caption(name2).render())\n",
    "    return HTML(q)\n",
    "\n",
    "df_x = pd.DataFrame.from_records(x, columns=['sample{}'.format(num) for num in range(sample_num)], index=['feat_{}'.format(name) for name in 'abcd'])\n",
    "df_cx = pd.DataFrame.from_records(c_x, columns=['feat__{}'.format(name) for name in 'abcd'], index=['feat_{}'.format(name) for name in 'abcd'])\n",
    "df_y = pd.DataFrame.from_records(y, columns=['sample{}'.format(num) for num in range(sample_num)], index=['new_feat_{}'.format(name) for name in 'efgh'])\n",
    "df_cy = pd.DataFrame.from_records(c_y, columns=['new_feat__{}'.format(name) for name in 'efgh'], index=['new_feat_{}'.format(name) for name in 'efgh'])\n",
    "\n",
    "# display_side_by_side(df_x, df_cx, 'X', 'Covariance Matrix of X')\n",
    "# display_side_by_side(df_y, df_cy, 'Y', 'Covariance Matrix of Y')\n",
    "display(df_x.style.set_caption('X'))\n",
    "display(df_cx.style.set_caption('Covariance Matrix of X'))\n",
    "display(df_y.style.set_caption('Y'))\n",
    "display(df_cy.style.set_caption('Covariance Matrix of Y'))"
   ]
  },
  {
   "cell_type": "markdown",
   "metadata": {},
   "source": [
    "[1]: The reason orthonormality is part of the goal is that we do not want to do anything more than rotating $X$. We do not want to modify $X$. We only want to re-express $X$ by carefully choosing a change of basis."
   ]
  }
 ],
 "metadata": {
  "kernelspec": {
   "display_name": "Python 3",
   "language": "python",
   "name": "python3"
  },
  "language_info": {
   "codemirror_mode": {
    "name": "ipython",
    "version": 3
   },
   "file_extension": ".py",
   "mimetype": "text/x-python",
   "name": "python",
   "nbconvert_exporter": "python",
   "pygments_lexer": "ipython3",
   "version": "3.7.5"
  }
 },
 "nbformat": 4,
 "nbformat_minor": 2
}
