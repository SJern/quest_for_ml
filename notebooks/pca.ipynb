{
 "cells": [
  {
   "cell_type": "markdown",
   "metadata": {},
   "source": [
    "# What do Principal Components Actually do Mathematically?\n",
    "I have recently taken an interest in PCA after watching Professor Gilbert Strang’s [PCA lecture](https://www.youtube.com/watch?v=Y4f7K9XF04k). I must have watched at least 15 other videos and read 7 different blog posts on PCA since. They are all very excellent resources, but I found myself somewhat unsatisfied. What they do a lot is teaching us the following:\n",
    "- What the PCA promise is;\n",
    "- Why that promise is very useful in Data Science; and\n",
    "- How to extract these principal components. (Although I don't agree with how some of them do it by applying SVD on the covariance matrix, that can be saved for another post.)\n",
    "\n",
    "Some of them go the extra mile to show us graphically or logically, how the promise is being fulfilled by the principal components:\n",
    "- Graphically, a transformed vector can be shown to be still clustered with its original group in a plot; and\n",
    "- Logically, a proof can be expressed in mathematical symbols.\n",
    "\n",
    "## Objective\n",
    "My mind was convinced, but my heart was still not. To me, the graphic approach does not provide a visual effect that is striking enough. The logic approach, on the other hand, does not even spend enough effort to explain what precisely it's trying to prove. Therefore, the objective of this post is to improve both of these 2 areas - to provide a more striking visual and to establish a more precise goal for our mathematical proof.\n",
    "\n",
    "## Prerequisites\n",
    "This post is for you if:\n",
    "- You have at least a slight idea of what the PCA promise is;\n",
    "- You have a decent understanding of what the covariance matrix is about;\n",
    "- You have a solid foundation in linear algebra, e.g., comfortable with the concept of matrices being transformations that rotate and/or stretch spaces; and\n",
    "- Your heart is longing to discover the principal components, instead of being told what they are!\n",
    "\n",
    "## How to Choose P?\n",
    "After hearing my dissatisfaction, my friend [Calvin](https://calvinfeng.github.io/) recommended this paper by Jonathon Shlens - [A Tutorial on Principal Component Analysis](https://arxiv.org/pdf/1404.1100.pdf) to me. It is by far the best resource I have come across on PCA. However, it's also a bit lengthier than your typical blog post, so the remainder of this post will focus on section 5 of the paper. In there, Jonathon immediately establishes the following goal:\n",
    "> The [original] dataset is $X$, an $m × n$ matrix.<br />\n",
    "> Find some orthonormal matrix $P$ in $Y = PX$ such that $C_Y \\equiv \\frac{1}{n}YY^T$ is a diagonal matrix.[1]<br />\n",
    "> The rows of $P$ shall be principal components of $X$.\n",
    "\n",
    "As you might have noticed, $C_Y$ here is the covariance matrix of our rotated dataset $Y$. Why do we want $C_Y$ to be diagonal? Before we answer this question, let’s generate a dataset $X$ consisting of 4 features with some random values."
   ]
  },
  {
   "cell_type": "code",
   "execution_count": 202,
   "metadata": {
    "cell_style": "center"
   },
   "outputs": [],
   "source": [
    "from IPython.display import Latex, display\n",
    "from string import ascii_lowercase\n",
    "import numpy as np\n",
    "import pandas as pd\n",
    "\n",
    "# constants\n",
    "FEAT_NUM, SAMPLE_NUM = 4, 4\n",
    "\n",
    "# helpers\n",
    "def covariance_matrix(dataset):\n",
    "    return dataset @ dataset.transpose() / SAMPLE_NUM\n",
    "\n",
    "def tabulate(dataset, rotated=False):\n",
    "    '''\n",
    "    Label row(s) and column(s) of a matrix by wrapping it in a dataframe.\n",
    "    '''\n",
    "    if rotated:\n",
    "        prefix = 'new_'\n",
    "        feats = ascii_lowercase[FEAT_NUM:2 * FEAT_NUM]\n",
    "    else:\n",
    "        prefix = ''\n",
    "        feats = ascii_lowercase[0:FEAT_NUM]\n",
    "    return pd.DataFrame.from_records(dataset, \n",
    "                                     columns=['sample{}'.format(num) for num in range(SAMPLE_NUM)], \n",
    "                                     index=['{}feat_{}'.format(prefix, feat) for feat in feats])\n",
    "\n",
    "def display_df(dataset, latex=False):\n",
    "    rounded = dataset.round(15)\n",
    "    if latex:\n",
    "        display(Latex(rounded.to_latex()))\n",
    "    else:\n",
    "        display(rounded)"
   ]
  },
  {
   "cell_type": "code",
   "execution_count": 214,
   "metadata": {
    "scrolled": true
   },
   "outputs": [
    {
     "data": {
      "text/html": [
       "<div>\n",
       "<style scoped>\n",
       "    .dataframe tbody tr th:only-of-type {\n",
       "        vertical-align: middle;\n",
       "    }\n",
       "\n",
       "    .dataframe tbody tr th {\n",
       "        vertical-align: top;\n",
       "    }\n",
       "\n",
       "    .dataframe thead th {\n",
       "        text-align: right;\n",
       "    }\n",
       "</style>\n",
       "<table border=\"1\" class=\"dataframe\">\n",
       "  <thead>\n",
       "    <tr style=\"text-align: right;\">\n",
       "      <th></th>\n",
       "      <th>sample0</th>\n",
       "      <th>sample1</th>\n",
       "      <th>sample2</th>\n",
       "      <th>sample3</th>\n",
       "    </tr>\n",
       "  </thead>\n",
       "  <tbody>\n",
       "    <tr>\n",
       "      <th>feat_a</th>\n",
       "      <td>0.472612</td>\n",
       "      <td>0.453242</td>\n",
       "      <td>0.811147</td>\n",
       "      <td>0.237625</td>\n",
       "    </tr>\n",
       "    <tr>\n",
       "      <th>feat_b</th>\n",
       "      <td>0.728994</td>\n",
       "      <td>0.916212</td>\n",
       "      <td>0.202783</td>\n",
       "      <td>0.116406</td>\n",
       "    </tr>\n",
       "    <tr>\n",
       "      <th>feat_c</th>\n",
       "      <td>0.803590</td>\n",
       "      <td>0.967202</td>\n",
       "      <td>0.659594</td>\n",
       "      <td>0.726142</td>\n",
       "    </tr>\n",
       "    <tr>\n",
       "      <th>feat_d</th>\n",
       "      <td>0.771849</td>\n",
       "      <td>0.753178</td>\n",
       "      <td>0.153215</td>\n",
       "      <td>0.459026</td>\n",
       "    </tr>\n",
       "  </tbody>\n",
       "</table>\n",
       "</div>"
      ],
      "text/plain": [
       "         sample0   sample1   sample2   sample3\n",
       "feat_a  0.472612  0.453242  0.811147  0.237625\n",
       "feat_b  0.728994  0.916212  0.202783  0.116406\n",
       "feat_c  0.803590  0.967202  0.659594  0.726142\n",
       "feat_d  0.771849  0.753178  0.153215  0.459026"
      ]
     },
     "metadata": {},
     "output_type": "display_data"
    }
   ],
   "source": [
    "x = tabulate(np.random.rand(FEAT_NUM, SAMPLE_NUM))\n",
    "display_df(x)"
   ]
  },
  {
   "cell_type": "markdown",
   "metadata": {},
   "source": [
    "$X$ above just looks like a normal dataset. Nothing special. What about its covariance matrix?"
   ]
  },
  {
   "cell_type": "code",
   "execution_count": 215,
   "metadata": {},
   "outputs": [
    {
     "data": {
      "text/html": [
       "<div>\n",
       "<style scoped>\n",
       "    .dataframe tbody tr th:only-of-type {\n",
       "        vertical-align: middle;\n",
       "    }\n",
       "\n",
       "    .dataframe tbody tr th {\n",
       "        vertical-align: top;\n",
       "    }\n",
       "\n",
       "    .dataframe thead th {\n",
       "        text-align: right;\n",
       "    }\n",
       "</style>\n",
       "<table border=\"1\" class=\"dataframe\">\n",
       "  <thead>\n",
       "    <tr style=\"text-align: right;\">\n",
       "      <th></th>\n",
       "      <th>feat_a</th>\n",
       "      <th>feat_b</th>\n",
       "      <th>feat_c</th>\n",
       "      <th>feat_d</th>\n",
       "    </tr>\n",
       "  </thead>\n",
       "  <tbody>\n",
       "    <tr>\n",
       "      <th>feat_a</th>\n",
       "      <td>0.285804</td>\n",
       "      <td>0.237986</td>\n",
       "      <td>0.381435</td>\n",
       "      <td>0.234878</td>\n",
       "    </tr>\n",
       "    <tr>\n",
       "      <th>feat_b</th>\n",
       "      <td>0.237986</td>\n",
       "      <td>0.356387</td>\n",
       "      <td>0.422564</td>\n",
       "      <td>0.334312</td>\n",
       "    </tr>\n",
       "    <tr>\n",
       "      <th>feat_c</th>\n",
       "      <td>0.381435</td>\n",
       "      <td>0.422564</td>\n",
       "      <td>0.635896</td>\n",
       "      <td>0.445776</td>\n",
       "    </tr>\n",
       "    <tr>\n",
       "      <th>feat_d</th>\n",
       "      <td>0.234878</td>\n",
       "      <td>0.334312</td>\n",
       "      <td>0.445776</td>\n",
       "      <td>0.349302</td>\n",
       "    </tr>\n",
       "  </tbody>\n",
       "</table>\n",
       "</div>"
      ],
      "text/plain": [
       "          feat_a    feat_b    feat_c    feat_d\n",
       "feat_a  0.285804  0.237986  0.381435  0.234878\n",
       "feat_b  0.237986  0.356387  0.422564  0.334312\n",
       "feat_c  0.381435  0.422564  0.635896  0.445776\n",
       "feat_d  0.234878  0.334312  0.445776  0.349302"
      ]
     },
     "metadata": {},
     "output_type": "display_data"
    }
   ],
   "source": [
    "c_x = covariance_matrix(x)\n",
    "display_df(c_x)"
   ]
  },
  {
   "cell_type": "markdown",
   "metadata": {},
   "source": [
    "![Have you ever questioned the nature of your reality?](assets/doesnt_look_like_anything.jpg)"
   ]
  },
  {
   "cell_type": "markdown",
   "metadata": {},
   "source": [
    "Its covariance matrix $C_X$ doesn't look that intersting either. However, let us recall that the covariance matrix is always a symmetric matrix with the variances on its diagonal and the covariances off-diagonal, i.e., having the following form:\n",
    "\n",
    "$$\n",
    "\\large\n",
    "\\begin{vmatrix}\n",
    "var(a, a) &  cov(a, b) &  cov(a, c) \\\\\n",
    "cov(b, a) &  var(b, b) &  cov(b, c) \\\\\n",
    "cov(c, a) &  cov(c, b) &  var(c, c) \\\\\n",
    "\\end{vmatrix}\n",
    "$$\n",
    "\n",
    "Let's also recall that $cov(x, y)$ is zero if and only if feature x and y are uncorrelated. The non-zero convariances in $C_X$ is an indication that there are quite some redundant feature measurements in $X$. So what we are trying to do here is feature extraction. We would like to rotate our dataset in a way such that the change of basis will represented by features that are uncorrelated to each other, i.e., having a new covariance matrix that is diagonal.\n",
    "\n",
    "### Time to Choose\n",
    "With a clearer goal now, let's figure out how we can achieve it.\n",
    "\n",
    "$$\n",
    "\\begin{array}{ccc}\n",
    "\\text{Givens} & \\text{Goal} & \\text{Unknown} \\\\\n",
    "\\hline\n",
    "\\begin{gathered}Y = PX \\\\ C_X \\equiv \\frac{1}{n}XX^T \\\\ C_Y \\equiv \\frac{1}{n}YY^T\\end{gathered}\n",
    "& C_Y\\text{ to be diagonal}\n",
    "& \\text{How to Choose }P\\text{?}\n",
    "\\end{array}\n",
    "$$\n",
    "\n",
    "From the givens above, we are able to derive the relationship between $C_Y$ and $C_X$ in terms of $P$:\n",
    "\n",
    "$$\n",
    "C_Y = \\frac{1}{n}YY^T = \\frac{1}{n}(PX)(PX)^T = \\frac{1}{n}PXX^TP^T\n",
    "$$\n",
    "\n",
    "$$\n",
    "C_Y = PC_XP^T\n",
    "$$\n",
    "\n",
    "Let's recall one more time that all covariance matrices are symmetric, and any symmetric matrix can be \"Eigendecomposed\" as\n",
    "\n",
    "$$\n",
    "Q{\\Lambda}Q^T\n",
    "$$\n",
    "\n",
    "where $Q$ is an orthogonal matrix whose columns are the eigenvectors of the symmetric matrix, and $\\Lambda$ is a diagonal matrix whose entries are the eigenvalues. There is usally more than one way to choose $P$, but Eigendecomposing $C_X$ will prove to make our life much easier. Let's see what we can do with it:\n",
    "\n",
    "$$\n",
    "C_Y = PQ{\\Lambda}Q^TP^T\n",
    "$$\n",
    "\n",
    "Since we know $\\Lambda$ is diagonal and $Q^TQ \\equiv I$, what if we choose $P$ to be $Q^T$?\n",
    "\n",
    "$$\n",
    "C_Y = Q^TQ{\\Lambda}Q^TQ = I{\\Lambda}I\n",
    "$$\n",
    "\n",
    "$$\n",
    "C_Y = \\Lambda\n",
    "$$\n",
    "\n",
    "Voilà, by choosing $P$ to eigenvectors of $C_X$, we are able to transform $X$ into $Y$ whose features are uncorrelated to each other!\n",
    "\n",
    "### Show\n",
    "Well, that was quite convenient, wasn't it? What's even better is that we can demonstrate it in a few lines of code:"
   ]
  },
  {
   "cell_type": "code",
   "execution_count": 216,
   "metadata": {},
   "outputs": [
    {
     "data": {
      "text/html": [
       "<div>\n",
       "<style scoped>\n",
       "    .dataframe tbody tr th:only-of-type {\n",
       "        vertical-align: middle;\n",
       "    }\n",
       "\n",
       "    .dataframe tbody tr th {\n",
       "        vertical-align: top;\n",
       "    }\n",
       "\n",
       "    .dataframe thead th {\n",
       "        text-align: right;\n",
       "    }\n",
       "</style>\n",
       "<table border=\"1\" class=\"dataframe\">\n",
       "  <thead>\n",
       "    <tr style=\"text-align: right;\">\n",
       "      <th></th>\n",
       "      <th>sample0</th>\n",
       "      <th>sample1</th>\n",
       "      <th>sample2</th>\n",
       "      <th>sample3</th>\n",
       "    </tr>\n",
       "  </thead>\n",
       "  <tbody>\n",
       "    <tr>\n",
       "      <th>new_feat_e</th>\n",
       "      <td>1.400186</td>\n",
       "      <td>1.576029</td>\n",
       "      <td>0.906121</td>\n",
       "      <td>0.830166</td>\n",
       "    </tr>\n",
       "    <tr>\n",
       "      <th>new_feat_f</th>\n",
       "      <td>-0.162144</td>\n",
       "      <td>-0.225848</td>\n",
       "      <td>0.572904</td>\n",
       "      <td>0.076917</td>\n",
       "    </tr>\n",
       "    <tr>\n",
       "      <th>new_feat_g</th>\n",
       "      <td>-0.042285</td>\n",
       "      <td>-0.086877</td>\n",
       "      <td>-0.091316</td>\n",
       "      <td>0.335921</td>\n",
       "    </tr>\n",
       "    <tr>\n",
       "      <th>new_feat_h</th>\n",
       "      <td>0.087761</td>\n",
       "      <td>-0.072164</td>\n",
       "      <td>-0.002497</td>\n",
       "      <td>-0.008295</td>\n",
       "    </tr>\n",
       "  </tbody>\n",
       "</table>\n",
       "</div>"
      ],
      "text/plain": [
       "             sample0   sample1   sample2   sample3\n",
       "new_feat_e  1.400186  1.576029  0.906121  0.830166\n",
       "new_feat_f -0.162144 -0.225848  0.572904  0.076917\n",
       "new_feat_g -0.042285 -0.086877 -0.091316  0.335921\n",
       "new_feat_h  0.087761 -0.072164 -0.002497 -0.008295"
      ]
     },
     "metadata": {},
     "output_type": "display_data"
    }
   ],
   "source": [
    "_, q = np.linalg.eig(c_x)  # Eigendecomposition\n",
    "p = q.transpose()\n",
    "y = tabulate(p @ x, rotated=True)\n",
    "display_df(y)"
   ]
  },
  {
   "cell_type": "markdown",
   "metadata": {},
   "source": [
    "The transformed dataset $Y$ with the newly extracted features e to h doesn't look like anything either, but what about its convariance matrix??"
   ]
  },
  {
   "cell_type": "code",
   "execution_count": 217,
   "metadata": {},
   "outputs": [
    {
     "data": {
      "text/html": [
       "<div>\n",
       "<style scoped>\n",
       "    .dataframe tbody tr th:only-of-type {\n",
       "        vertical-align: middle;\n",
       "    }\n",
       "\n",
       "    .dataframe tbody tr th {\n",
       "        vertical-align: top;\n",
       "    }\n",
       "\n",
       "    .dataframe thead th {\n",
       "        text-align: right;\n",
       "    }\n",
       "</style>\n",
       "<table border=\"1\" class=\"dataframe\">\n",
       "  <thead>\n",
       "    <tr style=\"text-align: right;\">\n",
       "      <th></th>\n",
       "      <th>new_feat_e</th>\n",
       "      <th>new_feat_f</th>\n",
       "      <th>new_feat_g</th>\n",
       "      <th>new_feat_h</th>\n",
       "    </tr>\n",
       "  </thead>\n",
       "  <tbody>\n",
       "    <tr>\n",
       "      <th>new_feat_e</th>\n",
       "      <td>1.488654</td>\n",
       "      <td>0.000000</td>\n",
       "      <td>0.000000</td>\n",
       "      <td>0.000000</td>\n",
       "    </tr>\n",
       "    <tr>\n",
       "      <th>new_feat_f</th>\n",
       "      <td>0.000000</td>\n",
       "      <td>0.102858</td>\n",
       "      <td>0.000000</td>\n",
       "      <td>-0.000000</td>\n",
       "    </tr>\n",
       "    <tr>\n",
       "      <th>new_feat_g</th>\n",
       "      <td>0.000000</td>\n",
       "      <td>0.000000</td>\n",
       "      <td>0.032629</td>\n",
       "      <td>-0.000000</td>\n",
       "    </tr>\n",
       "    <tr>\n",
       "      <th>new_feat_h</th>\n",
       "      <td>0.000000</td>\n",
       "      <td>-0.000000</td>\n",
       "      <td>-0.000000</td>\n",
       "      <td>0.003246</td>\n",
       "    </tr>\n",
       "  </tbody>\n",
       "</table>\n",
       "</div>"
      ],
      "text/plain": [
       "            new_feat_e  new_feat_f  new_feat_g  new_feat_h\n",
       "new_feat_e    1.488654    0.000000    0.000000    0.000000\n",
       "new_feat_f    0.000000    0.102858    0.000000   -0.000000\n",
       "new_feat_g    0.000000    0.000000    0.032629   -0.000000\n",
       "new_feat_h    0.000000   -0.000000   -0.000000    0.003246"
      ]
     },
     "metadata": {},
     "output_type": "display_data"
    }
   ],
   "source": [
    "c_y = covariance_matrix(y)\n",
    "display_df(c_y)"
   ]
  },
  {
   "cell_type": "markdown",
   "metadata": {},
   "source": [
    "Holy moly, isn't this exactly what we were aiming for, with just a few lines of code? From a dataset with some redundant and less interesting fetures, we have extracted new features that are much more meaningful to look at, simply by diagonalizing its convariance matrix. Let's wrap this up with some side-by-side comparisons."
   ]
  },
  {
   "cell_type": "code",
   "execution_count": 219,
   "metadata": {
    "scrolled": true
   },
   "outputs": [
    {
     "data": {
      "text/latex": [
       "\\begin{tabular}{lrrrr}\n",
       "\\toprule\n",
       "{} &   sample0 &   sample1 &   sample2 &   sample3 \\\\\n",
       "\\midrule\n",
       "feat\\_a &  0.472612 &  0.453242 &  0.811147 &  0.237625 \\\\\n",
       "feat\\_b &  0.728994 &  0.916212 &  0.202783 &  0.116406 \\\\\n",
       "feat\\_c &  0.803590 &  0.967202 &  0.659594 &  0.726142 \\\\\n",
       "feat\\_d &  0.771849 &  0.753178 &  0.153215 &  0.459026 \\\\\n",
       "\\bottomrule\n",
       "\\end{tabular}\n"
      ],
      "text/plain": [
       "<IPython.core.display.Latex object>"
      ]
     },
     "metadata": {},
     "output_type": "display_data"
    },
    {
     "data": {
      "text/latex": [
       "\\begin{tabular}{lrrrr}\n",
       "\\toprule\n",
       "{} &    feat\\_a &    feat\\_b &    feat\\_c &    feat\\_d \\\\\n",
       "\\midrule\n",
       "feat\\_a &  0.285804 &  0.237986 &  0.381435 &  0.234878 \\\\\n",
       "feat\\_b &  0.237986 &  0.356387 &  0.422564 &  0.334312 \\\\\n",
       "feat\\_c &  0.381435 &  0.422564 &  0.635896 &  0.445776 \\\\\n",
       "feat\\_d &  0.234878 &  0.334312 &  0.445776 &  0.349302 \\\\\n",
       "\\bottomrule\n",
       "\\end{tabular}\n"
      ],
      "text/plain": [
       "<IPython.core.display.Latex object>"
      ]
     },
     "metadata": {},
     "output_type": "display_data"
    },
    {
     "data": {
      "text/latex": [
       "\\begin{tabular}{lrrrr}\n",
       "\\toprule\n",
       "{} &   sample0 &   sample1 &   sample2 &   sample3 \\\\\n",
       "\\midrule\n",
       "new\\_feat\\_e &  1.400186 &  1.576029 &  0.906121 &  0.830166 \\\\\n",
       "new\\_feat\\_f & -0.162144 & -0.225848 &  0.572904 &  0.076917 \\\\\n",
       "new\\_feat\\_g & -0.042285 & -0.086877 & -0.091316 &  0.335921 \\\\\n",
       "new\\_feat\\_h &  0.087761 & -0.072164 & -0.002497 & -0.008295 \\\\\n",
       "\\bottomrule\n",
       "\\end{tabular}\n"
      ],
      "text/plain": [
       "<IPython.core.display.Latex object>"
      ]
     },
     "metadata": {},
     "output_type": "display_data"
    },
    {
     "data": {
      "text/latex": [
       "\\begin{tabular}{lrrrr}\n",
       "\\toprule\n",
       "{} &  new\\_feat\\_e &  new\\_feat\\_f &  new\\_feat\\_g &  new\\_feat\\_h \\\\\n",
       "\\midrule\n",
       "new\\_feat\\_e &    1.488654 &    0.000000 &    0.000000 &    0.000000 \\\\\n",
       "new\\_feat\\_f &    0.000000 &    0.102858 &    0.000000 &   -0.000000 \\\\\n",
       "new\\_feat\\_g &    0.000000 &    0.000000 &    0.032629 &   -0.000000 \\\\\n",
       "new\\_feat\\_h &    0.000000 &   -0.000000 &   -0.000000 &    0.003246 \\\\\n",
       "\\bottomrule\n",
       "\\end{tabular}\n"
      ],
      "text/plain": [
       "<IPython.core.display.Latex object>"
      ]
     },
     "metadata": {},
     "output_type": "display_data"
    }
   ],
   "source": [
    "display_df(x, latex=True)\n",
    "display_df(c_x, latex=True)\n",
    "display_df(y, latex=True)\n",
    "display_df(c_y, latex=True)"
   ]
  },
  {
   "cell_type": "markdown",
   "metadata": {},
   "source": [
    "Look at this. Isn't it just beautiful?"
   ]
  },
  {
   "cell_type": "markdown",
   "metadata": {},
   "source": [
    "[1]: The reason orthonormality is part of the goal is that we do not want to do anything more than rotations. We do not want to modify $X$. We only want to re-express $X$ by carefully choosing a change of basis."
   ]
  }
 ],
 "metadata": {
  "kernelspec": {
   "display_name": "Python 3",
   "language": "python",
   "name": "python3"
  },
  "language_info": {
   "codemirror_mode": {
    "name": "ipython",
    "version": 3
   },
   "file_extension": ".py",
   "mimetype": "text/x-python",
   "name": "python",
   "nbconvert_exporter": "python",
   "pygments_lexer": "ipython3",
   "version": "3.7.5"
  }
 },
 "nbformat": 4,
 "nbformat_minor": 2
}
