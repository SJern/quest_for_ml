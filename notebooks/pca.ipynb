{
 "cells": [
  {
   "cell_type": "markdown",
   "metadata": {},
   "source": [
    "# What do Principal Components Actually do Mathematically?\n",
    "\n",
    "I have recently taken an interest in PCA after watching Professor Gilbert Strang’s [SVD lecture](https://www.youtube.com/watch?v=rYz83XPxiZo). I must have watched at least 15 other videos and 7 different blog posts/papers on PCA since. They are all very excellent resources, but I found myself somewhat unsatisfied. What they do a lot is teaching us the following:\n",
    "- What the PCA promise is;\n",
    "- Why that promise is very useful in Data Science;\n",
    "- How to extract these principal components. (Although I don't agree with how some of them do it by applying SVD on the covariance matrix, but that can be saved for another post.)\n",
    "\n",
    "Some of them go the extra mile to show us graphically or logically, how the promise is being fulfilled by the principal components:\n",
    "- Graphically, a transformed vector can be shown to be still clustered with its original group in a plot;\n",
    "- Logically, a proof can be expressed in mathematical symbols.\n",
    "\n",
    "My mind was convinced, but my heart was still not. To me, the graphic approach does not provide a visual effect that is striking enough. The logic approach on the other hand, does not even spend enough effort to explain what precisely it's trying to prove. Therefore, the objective of this post is to improve both of these 2 areas - to provide a more striking visual and to establish a more precise goal for our mathematical proof.\n",
    "\n",
    "Graphically vs numerically Vs mathematical proof\n",
    "\n",
    "What if we rotate the dataset in a way that all its covariance become 0s?\n",
    "\n",
    "Invent vs discover"
   ]
  },
  {
   "cell_type": "code",
   "execution_count": null,
   "metadata": {},
   "outputs": [],
   "source": []
  }
 ],
 "metadata": {
  "kernelspec": {
   "display_name": "Python 3",
   "language": "python",
   "name": "python3"
  },
  "language_info": {
   "codemirror_mode": {
    "name": "ipython",
    "version": 3
   },
   "file_extension": ".py",
   "mimetype": "text/x-python",
   "name": "python",
   "nbconvert_exporter": "python",
   "pygments_lexer": "ipython3",
   "version": "3.7.5"
  }
 },
 "nbformat": 4,
 "nbformat_minor": 2
}
