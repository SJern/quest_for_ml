{
 "cells": [
  {
   "cell_type": "markdown",
   "metadata": {},
   "source": [
    "# What do Principal Components Actually do Mathematically?\n",
    "I have recently taken an interest in PCA after watching Professor Gilbert Strang’s [PCA lecture](https://www.youtube.com/watch?v=Y4f7K9XF04k). I must have watched at least 15 other videos and read 7 different blog posts on PCA since. They are all very excellent resources, but I found myself somewhat unsatisfied. What they do a lot is teaching us the following:\n",
    "- What the PCA promise is;\n",
    "- Why that promise is very useful in Data Science; and\n",
    "- How to extract these principal components. (Although I don't agree with how some of them do it by applying SVD on the covariance matrix, that can be saved for another post.)\n",
    "\n",
    "Some of them go the extra mile to show us graphically or logically, how the promise is being fulfilled by the principal components:\n",
    "- Graphically, a transformed vector can be shown to be still clustered with its original group in a plot; and\n",
    "- Logically, a proof can be expressed in mathematical symbols.\n",
    "\n",
    "## Objective\n",
    "My mind was convinced, but my heart was still not. To me, the graphic approach does not provide a visual effect that is striking enough. The logic approach, on the other hand, does not even spend enough effort to explain what precisely it's trying to prove. Therefore, the objective of this post is to improve both of these 2 areas - to provide a more striking visual and to establish a more precise goal for our mathematical proof.\n",
    "\n",
    "## Prerequisites\n",
    "This post is for you if:\n",
    "- You have at least a slight idea of what the PCA promise is;\n",
    "- You have a decent understanding of what the covariance matrix is about;\n",
    "- You have a solid foundation in linear algebra, e.g., comfortable with the concept of matrices being transformations that rotate and/or stretch spaces; and\n",
    "- Your heart is longing to discover the principal components, instead of being told what they are!\n",
    "\n",
    "## How to Choose P?\n",
    "After hearing my dissatisfaction, my friend [Calvin](https://calvinfeng.github.io/) recommended this paper by Jonathon Shlens - [A Tutorial on Principal Component Analysis](https://arxiv.org/pdf/1404.1100.pdf) to me. It is by far the best resource I have come across on PCA. However, it's also a bit lengthier than your typical blog post, so the remainder of this post will focus on section 5 of the paper. In there, Jonathon immediately establishes the following goal:\n",
    "> The [original] dataset is $X$, an $m × n$ matrix.<br>\n",
    "> Find some orthonormal matrix $P$ in $Y = PX$ such that $C_Y \\equiv \\frac{1}{n}YY^T$ is a diagonal matrix.[1]<br>\n",
    "> The rows of $P$ shall be principal components of $X$.\n",
    "\n",
    "As you might have noticed, $C_Y$ here is the covariance matrix of our rotated dataset $Y$. Why do we want $C_Y$ to be diagonal? Before we answer this question, let’s generate a dataset $X$ consisting of 4 features with some random values."
   ]
  },
  {
   "cell_type": "code",
   "execution_count": 123,
   "metadata": {
    "cell_style": "center"
   },
   "outputs": [],
   "source": [
    "import numpy as np\n",
    "feature_num, sample_num = 4, 4\n",
    "x = np.random.rand(feature_num, sample_num)\n",
    "\n",
    "def covariance_matrix(dataset):\n",
    "    sample_count = dataset.shape[1]\n",
    "    return (dataset @ dataset.transpose() / sample_count)"
   ]
  },
  {
   "cell_type": "code",
   "execution_count": 124,
   "metadata": {},
   "outputs": [],
   "source": [
    "c_x = covariance_matrix(x)\n",
    "_, p = np.linalg.eig(c_x)\n",
    "y = p.transpose() @ x\n",
    "c_y = covariance_matrix(y)"
   ]
  },
  {
   "cell_type": "code",
   "execution_count": 126,
   "metadata": {},
   "outputs": [
    {
     "data": {
      "text/latex": [
       "\\begin{tabular}{lrrrr}\n",
       "\\toprule\n",
       "{} &   sample0 &   sample1 &   sample2 &   sample3 \\\\\n",
       "\\midrule\n",
       "new\\_feat\\_e &  1.237100 &  1.163050 &  1.130956 &  0.699606 \\\\\n",
       "new\\_feat\\_f & -0.430329 & -0.011550 &  0.560685 & -0.126239 \\\\\n",
       "new\\_feat\\_g &  0.098891 &  0.074781 &  0.007388 & -0.311131 \\\\\n",
       "new\\_feat\\_h &  0.048906 & -0.083760 &  0.034965 & -0.003757 \\\\\n",
       "\\bottomrule\n",
       "\\end{tabular}\n"
      ],
      "text/plain": [
       "<IPython.core.display.Latex object>"
      ]
     },
     "metadata": {},
     "output_type": "display_data"
    },
    {
     "name": "stdout",
     "output_type": "stream",
     "text": [
      "\\begin{tabular}{lrrrr}\n",
      "\\toprule\n",
      "{} &   sample0 &   sample1 &   sample2 &   sample3 \\\\\n",
      "\\midrule\n",
      "new\\_feat\\_e &  1.237100 &  1.163050 &  1.130956 &  0.699606 \\\\\n",
      "new\\_feat\\_f & -0.430329 & -0.011550 &  0.560685 & -0.126239 \\\\\n",
      "new\\_feat\\_g &  0.098891 &  0.074781 &  0.007388 & -0.311131 \\\\\n",
      "new\\_feat\\_h &  0.048906 & -0.083760 &  0.034965 & -0.003757 \\\\\n",
      "\\bottomrule\n",
      "\\end{tabular}\n",
      "\n"
     ]
    },
    {
     "data": {
      "text/latex": [
       "\\begin{tabular}{lrrrr}\n",
       "\\toprule\n",
       "{} &  new\\_feat\\_\\_e &  new\\_feat\\_\\_f &  new\\_feat\\_\\_g &  new\\_feat\\_\\_h \\\\\n",
       "\\midrule\n",
       "new\\_feat\\_e &     1.162903 &     0.000000 &     0.000000 &     0.000000 \\\\\n",
       "new\\_feat\\_f &     0.000000 &     0.128905 &     0.000000 &    -0.000000 \\\\\n",
       "new\\_feat\\_g &     0.000000 &     0.000000 &     0.028057 &    -0.000000 \\\\\n",
       "new\\_feat\\_h &     0.000000 &    -0.000000 &    -0.000000 &     0.002661 \\\\\n",
       "\\bottomrule\n",
       "\\end{tabular}\n"
      ],
      "text/plain": [
       "<IPython.core.display.Latex object>"
      ]
     },
     "metadata": {},
     "output_type": "display_data"
    },
    {
     "name": "stdout",
     "output_type": "stream",
     "text": [
      "\\begin{tabular}{lrrrr}\n",
      "\\toprule\n",
      "{} &  new\\_feat\\_\\_e &  new\\_feat\\_\\_f &  new\\_feat\\_\\_g &  new\\_feat\\_\\_h \\\\\n",
      "\\midrule\n",
      "new\\_feat\\_e &     1.162903 &     0.000000 &     0.000000 &     0.000000 \\\\\n",
      "new\\_feat\\_f &     0.000000 &     0.128905 &     0.000000 &    -0.000000 \\\\\n",
      "new\\_feat\\_g &     0.000000 &     0.000000 &     0.028057 &    -0.000000 \\\\\n",
      "new\\_feat\\_h &     0.000000 &    -0.000000 &    -0.000000 &     0.002661 \\\\\n",
      "\\bottomrule\n",
      "\\end{tabular}\n",
      "\n"
     ]
    }
   ],
   "source": [
    "from IPython.display import HTML, Latex, display\n",
    "import pandas as pd\n",
    "\n",
    "def display_side_by_side(df1, df2, name1, name2):\n",
    "    inline = 'style=\"display: float; max-width:50%\" class=\"table\"'\n",
    "    q = '''\n",
    "    <div class=\"table-responsive col-md-6\">{}</div>\n",
    "    <div class=\"table-responsive col-md-6\">{}</div>\n",
    "    '''.format(df1.style.set_table_attributes(inline).set_caption(name1).render(),\n",
    "               df2.style.set_table_attributes(inline).set_caption(name2).render())\n",
    "    return HTML(q)\n",
    "\n",
    "df_x = pd.DataFrame.from_records(x, columns=['sample{}'.format(num) for num in range(sample_num)], index=['feat_{}'.format(name) for name in 'abcd']).round(15)\n",
    "df_cx = pd.DataFrame.from_records(c_x, columns=['feat__{}'.format(name) for name in 'abcd'], index=['feat_{}'.format(name) for name in 'abcd']).round(15)\n",
    "df_y = pd.DataFrame.from_records(y, columns=['sample{}'.format(num) for num in range(sample_num)], index=['new_feat_{}'.format(name) for name in 'efgh']).round(15)\n",
    "df_cy = pd.DataFrame.from_records(c_y, columns=['new_feat__{}'.format(name) for name in 'efgh'], index=['new_feat_{}'.format(name) for name in 'efgh']).round(15)\n",
    "display(Latex(df_y.to_latex()))\n",
    "print(df_y.to_latex())\n",
    "display(Latex(df_cy.to_latex()))\n",
    "print(df_cy.to_latex())\n",
    "# display(df_x)\n",
    "# display(df_cx)\n",
    "# display(df_y)\n",
    "# display(df_cy)\n",
    "\n",
    "# display_side_by_side(df_x, df_cx, 'X', 'Covariance Matrix of X')\n",
    "# display_side_by_side(df_y, df_cy, 'Y', 'Covariance Matrix of Y')\n",
    "# display(df_x.style.set_caption('X'))\n",
    "# display(df_cx.style.set_caption('Covariance Matrix of X'))\n",
    "# display(df_y.style.set_caption('Y'))\n",
    "# display(df_cy.style.set_caption('Covariance Matrix of Y'))"
   ]
  },
  {
   "cell_type": "markdown",
   "metadata": {},
   "source": [
    "[1]: The reason orthonormality is part of the goal is that we do not want to do anything more than rotating $X$. We do not want to modify $X$. We only want to re-express $X$ by carefully choosing a change of basis."
   ]
  }
 ],
 "metadata": {
  "kernelspec": {
   "display_name": "Python 3",
   "language": "python",
   "name": "python3"
  },
  "language_info": {
   "codemirror_mode": {
    "name": "ipython",
    "version": 3
   },
   "file_extension": ".py",
   "mimetype": "text/x-python",
   "name": "python",
   "nbconvert_exporter": "python",
   "pygments_lexer": "ipython3",
   "version": "3.7.5"
  }
 },
 "nbformat": 4,
 "nbformat_minor": 2
}
